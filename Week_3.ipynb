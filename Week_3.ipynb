{
 "cells": [
  {
   "cell_type": "markdown",
   "metadata": {},
   "source": [
    "## PPA 1\n",
    "Write a program to print the numbers which are divisible by 12 and 13 in range of ```[1000 - 2000]```\n",
    "\n",
    "**Output**\n",
    "<pre>\n",
    "1092\n",
    "1248\n",
    "1404\n",
    "1560\n",
    "1716\n",
    "1872\n",
    "</pre>"
   ]
  },
  {
   "cell_type": "code",
   "execution_count": 1,
   "metadata": {},
   "outputs": [],
   "source": [
    "#TRY"
   ]
  },
  {
   "cell_type": "markdown",
   "metadata": {},
   "source": [
    "## PPA 2\n",
    "Write a program to find the sum of the digits of the number got from the user.\n",
    "\n",
    "<table style=\"\" style=\"width: 100%; text-transform: capitalize; border: 1px solid black;\">\n",
    "<thead>\n",
    "<tr style=\"height: 34px; text-align: left; \">\n",
    "<td style=\"width: 122px; height: 34px; text-align: center;border: 1px solid black;\">Input</td>\n",
    "<td style=\"width: 123px; height: 34px;text-align: center;border: 1px solid black;\">Output</td>\n",
    "</tr>\n",
    "</thead>\n",
    "\n",
    "<tbody>\n",
    "<tr style=\"height: 34px;\">\n",
    "<td style=\"width: 122px; height: 34px;text-align: center;border: 1px solid black;\">123456</td>\n",
    "<td style=\"width: 123px; height: 34px;text-align: center;border: 1px solid black;\">21</td>\n",
    "</tr>\n",
    "<tr style=\"height: 34px;\">\n",
    "<td style=\"width: 122px; height: 34px;text-align: center;border: 1px solid black;\">67127</td>\n",
    "<td style=\"width: 123px; height: 34px;text-align: center;border: 1px solid black;\">23</td>\n",
    "</tr>\n",
    "<tr style=\"height: 34px;\">\n",
    "<td style=\"width: 122px; height: 34px;text-align: center;border: 1px solid black;\">182638</td>\n",
    "<td style=\"width: 123px; height: 34px;text-align: center;border: 1px solid black;\">28</td>\n",
    "</tr>\n",
    "</tbody>\n",
    "</table>\n"
   ]
  },
  {
   "cell_type": "code",
   "execution_count": 2,
   "metadata": {},
   "outputs": [],
   "source": [
    "#TRY"
   ]
  },
  {
   "cell_type": "markdown",
   "metadata": {},
   "source": [
    "## PPA 3\n",
    "Write a program to find sum of all prime numbers between 1 to n , where n is a positive integer from user.\n",
    "\n",
    "<table style=\"\" style=\"width: 100%; text-transform: capitalize; border: 1px solid black;\">\n",
    "<thead>\n",
    "<tr style=\"height: 34px; text-align: left; \">\n",
    "<td style=\"width: 122px; height: 34px; text-align: center;border: 1px solid black;\">Input</td>\n",
    "<td style=\"width: 123px; height: 34px;text-align: center;border: 1px solid black;\">Output</td>\n",
    "</tr>\n",
    "</thead>\n",
    "\n",
    "<tbody>\n",
    "<tr style=\"height: 34px;\">\n",
    "<td style=\"width: 122px; height: 34px;text-align: center;border: 1px solid black;\">10</td>\n",
    "<td style=\"width: 123px; height: 34px;text-align: center;border: 1px solid black;\">17</td>\n",
    "</tr>\n",
    "<tr style=\"height: 34px;\">\n",
    "<td style=\"width: 122px; height: 34px;text-align: center;border: 1px solid black;\">100</td>\n",
    "<td style=\"width: 123px; height: 34px;text-align: center;border: 1px solid black;\">1060</td>\n",
    "</tr>\n",
    "\n",
    "</tbody>\n",
    "</table>\n"
   ]
  },
  {
   "cell_type": "markdown",
   "metadata": {},
   "source": [
    "## PPA 4\n",
    "<pre>\n",
    "Write a python program to print the following patter. The number of * in the first line taken from the user input (odd number). \n",
    "The example is given for the user input 15.\n",
    "\n",
    "</pre>\n",
    "\n",
    "**Test case 1:**\n",
    "<pre><b>Input: </b>\n",
    "15\n",
    "<b>Output</b>\n",
    "***************\n",
    "**     *     **\n",
    "* *    *    * *\n",
    "*  *   *   *  *\n",
    "*   *  *  *   *\n",
    "*    * * *    *\n",
    "*     ***     *\n",
    "***************\n",
    "*     ***     *\n",
    "*    * * *    *\n",
    "*   *  *  *   *\n",
    "*  *   *   *  *\n",
    "* *    *    * *\n",
    "**     *     **\n",
    "***************\n",
    "\n",
    "</pre>\n",
    "**Test case 2:**\n",
    "<pre><b>Input: </b>\n",
    "13\n",
    "<b>Output</b>\n",
    "*************\n",
    "**    *    **\n",
    "* *   *   * *\n",
    "*  *  *  *  *\n",
    "*   * * *   *\n",
    "*    ***    *\n",
    "*************\n",
    "*    ***    *\n",
    "*   * * *   *\n",
    "*  *  *  *  *\n",
    "* *   *   * *\n",
    "**    *    **\n",
    "*************\n",
    "</pre>\n"
   ]
  },
  {
   "cell_type": "code",
   "execution_count": 5,
   "metadata": {},
   "outputs": [],
   "source": [
    "#Try"
   ]
  },
  {
   "cell_type": "markdown",
   "metadata": {},
   "source": [
    "## PPA 5\n",
    "Write a python program to print all the combination that satisfies $x^4 + y^3 = z^2$. \n",
    "Where, \n",
    "1. $x, y, z$ should be distinct, positive and less than n obtained from the user\n",
    "2. $x < y < z$\n",
    "3. The output should be printed in the ascending order of $x$. \n",
    "\n",
    ">Hint: Use nested loop.\n",
    "\n",
    "**Test Case 1**\n",
    "<pre>\n",
    "<b>Input</b>\n",
    "100\n",
    "<b>Output</b>\n",
    "1 2 3\n",
    "5 6 29\n",
    "6 9 45\n",
    "7 15 76\n",
    "</pre>\n",
    "**Test Case 2**\n",
    "<pre>\n",
    "<b>Input</b>\n",
    "10\n",
    "<b>Output</b>\n",
    "1 2 3\n",
    "</pre>"
   ]
  },
  {
   "cell_type": "code",
   "execution_count": 7,
   "metadata": {},
   "outputs": [],
   "source": [
    "#TRY"
   ]
  },
  {
   "cell_type": "markdown",
   "metadata": {},
   "source": [
    "## PPA 6\n",
    "Accept the two strings from the user and remove all characters from the second string which are present in the first string. \n",
    "\n",
    "**Test Case 1**\n",
    "<pre>\n",
    "<b>Input</b>\n",
    "aeiou\n",
    "this is python program\n",
    "<b>Output</b>\n",
    "ths s pythn prgrm\n",
    "</pre>\n",
    "**Test Case 2**\n",
    "<pre>\n",
    "<b>Input</b>\n",
    "lo\n",
    "hello python\n",
    "<b>Output</b>\n",
    "he pythn\n",
    "</pre>\n",
    "**Test Case 3**\n",
    "<pre>\n",
    "<b>Input</b>\n",
    "a\n",
    "hello python\n",
    "<b>Output</b>\n",
    "hello python\n",
    "</pre>"
   ]
  },
  {
   "cell_type": "code",
   "execution_count": 8,
   "metadata": {},
   "outputs": [],
   "source": [
    "#TRY"
   ]
  },
  {
   "cell_type": "markdown",
   "metadata": {},
   "source": [
    "# SOLUTIONS\n",
    "---"
   ]
  },
  {
   "cell_type": "markdown",
   "metadata": {},
   "source": [
    "**PPA 1**"
   ]
  },
  {
   "cell_type": "code",
   "execution_count": 9,
   "metadata": {},
   "outputs": [
    {
     "name": "stdout",
     "output_type": "stream",
     "text": [
      "1092\n",
      "1248\n",
      "1404\n",
      "1560\n",
      "1716\n",
      "1872\n"
     ]
    }
   ],
   "source": [
    "for i in range(1000, 2001): \n",
    "    if (i%12) == 0 and (i%13) == 0: \n",
    "        print(i)"
   ]
  },
  {
   "cell_type": "markdown",
   "metadata": {},
   "source": [
    "**PPA 2**"
   ]
  },
  {
   "cell_type": "code",
   "execution_count": 10,
   "metadata": {},
   "outputs": [
    {
     "name": "stdout",
     "output_type": "stream",
     "text": [
      "123456\n",
      "21"
     ]
    }
   ],
   "source": [
    "n = int(input())\n",
    "sum = 0\n",
    "while n: \n",
    "    sum += n%10\n",
    "    n //= 10\n",
    "print(sum, end=\"\")"
   ]
  },
  {
   "cell_type": "markdown",
   "metadata": {},
   "source": [
    "**PPA 3**"
   ]
  },
  {
   "cell_type": "code",
   "execution_count": 11,
   "metadata": {},
   "outputs": [
    {
     "name": "stdout",
     "output_type": "stream",
     "text": [
      "10\n",
      "17"
     ]
    }
   ],
   "source": [
    "n = int(input())\n",
    "sum = 0\n",
    "for i in range(2, n+1): \n",
    "    flag = True\n",
    "    for j in range(2, i): \n",
    "        if i%j == 0: \n",
    "            flag = False\n",
    "            break; \n",
    "    if flag: \n",
    "        sum += i\n",
    "print(sum, end=\"\")"
   ]
  },
  {
   "cell_type": "markdown",
   "metadata": {},
   "source": [
    "**PPA 4**"
   ]
  },
  {
   "cell_type": "code",
   "execution_count": 31,
   "metadata": {},
   "outputs": [
    {
     "name": "stdout",
     "output_type": "stream",
     "text": [
      "13\n",
      "*************\n",
      "**    *    **\n",
      "* *   *   * *\n",
      "*  *  *  *  *\n",
      "*   * * *   *\n",
      "*    ***    *\n",
      "*************\n",
      "*    ***    *\n",
      "*   * * *   *\n",
      "*  *  *  *  *\n",
      "* *   *   * *\n",
      "**    *    **\n",
      "*************\n"
     ]
    }
   ],
   "source": [
    "n = int(input())\n",
    "if n == 1: \n",
    "    print(\"*\")\n",
    "else: \n",
    "    print(\"*\"*n)\n",
    "    for i in range((n-3)//2): \n",
    "        print(\"*\", end=\"\")\n",
    "        print(\" \"*i, end=\"\")\n",
    "        print(\"*\", end=\"\")\n",
    "        print(\" \"*((n-5)//2-i), end=\"\")\n",
    "        print(\"*\", end=\"\")\n",
    "        print(\" \"*((n-5)//2-i), end=\"\")\n",
    "        print(\"*\", end=\"\")\n",
    "        print(\" \"*i, end=\"\")\n",
    "        print(\"*\")    \n",
    "    print(\"*\"*n)\n",
    "\n",
    "    for i in range((n-3)//2): \n",
    "        print(\"*\", end=\"\")\n",
    "        print(\" \"*((n-5)//2 - i), end=\"\")\n",
    "        print(\"*\", end=\"\")\n",
    "        print(\" \"*i, end=\"\")\n",
    "        print(\"*\", end=\"\")\n",
    "        print(\" \"*i, end=\"\")\n",
    "        print(\"*\", end=\"\")\n",
    "        print(\" \"*((n-5)//2-i), end=\"\")\n",
    "        print(\"*\")\n",
    "    print(\"*\"*n)\n",
    "\n",
    "# AFTER REDUCING Don't worry if you don't understand what i just did. First just try to understand the above logic.\n",
    "# The below one is same as above, i just concatenated all the strings in one line.\n",
    "\n",
    "# n = int(input())\n",
    "# if n == 1: \n",
    "#     print(\"*\")\n",
    "# else: \n",
    "#     print(\"*\"*n)\n",
    "#     for i in range((n-3)//2): \n",
    "#         print(\"*\" + \" \"*i + \"*\" + (\" \"*((n-5)//2-i)+\"*\")*2 + \" \"*i + \"*\")\n",
    "#     print(\"*\"*n)\n",
    "#     for i in range((n-3)//2): \n",
    "#         print(\"*\" + \" \"*((n-5)//2 - i) + \"*\" +(\" \"*i + \"*\")*2 + \" \"*((n-5)//2-i) + \"*\")\n",
    "\n",
    "#     print(\"*\"*n)"
   ]
  },
  {
   "cell_type": "markdown",
   "metadata": {},
   "source": [
    "**PPA 5**"
   ]
  },
  {
   "cell_type": "code",
   "execution_count": 32,
   "metadata": {},
   "outputs": [
    {
     "name": "stdout",
     "output_type": "stream",
     "text": [
      "100\n",
      "1 2 3\n",
      "5 6 29\n",
      "6 9 45\n",
      "7 15 76\n"
     ]
    }
   ],
   "source": [
    "n = int(input())\n",
    "for i in range(1, n): \n",
    "    for j in range(1, n): \n",
    "        for l in range(1, n): \n",
    "            if i == j or i == l or j == l: \n",
    "                continue\n",
    "            if i**4 + j**3 == l**2: \n",
    "                print(i, j, l)\n",
    "        "
   ]
  },
  {
   "cell_type": "markdown",
   "metadata": {},
   "source": [
    "**PPA 6**"
   ]
  },
  {
   "cell_type": "code",
   "execution_count": 35,
   "metadata": {},
   "outputs": [
    {
     "name": "stdout",
     "output_type": "stream",
     "text": [
      "aeiou\n",
      "this is python program\n",
      "ths s pythn prgrm"
     ]
    }
   ],
   "source": [
    "a = input() \n",
    "b = input()\n",
    "\n",
    "output = \"\"; \n",
    "for i in b: \n",
    "    if not(i in a): \n",
    "        output += i\n",
    "    \n",
    "print(output, end=\"\")\n",
    "        "
   ]
  },
  {
   "cell_type": "code",
   "execution_count": null,
   "metadata": {},
   "outputs": [],
   "source": []
  }
 ],
 "metadata": {
  "kernelspec": {
   "display_name": "Python 3",
   "language": "python",
   "name": "python3"
  },
  "language_info": {
   "codemirror_mode": {
    "name": "ipython",
    "version": 3
   },
   "file_extension": ".py",
   "mimetype": "text/x-python",
   "name": "python",
   "nbconvert_exporter": "python",
   "pygments_lexer": "ipython3",
   "version": "3.8.5"
  }
 },
 "nbformat": 4,
 "nbformat_minor": 4
}
