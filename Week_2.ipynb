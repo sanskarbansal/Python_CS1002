{
 "cells": [
  {
   "cell_type": "markdown",
   "metadata": {},
   "source": [
    "## PPA 1\n",
    "<pre>\n",
    "Evaluate the below piecewise function using python and print the value of y <br/>\n",
    "</pre> \n",
    "$$\n",
    "y = \\left \\{\n",
    "\\begin{array}{lr}\n",
    "    x+2 & 0 \\lt x \\lt 10 \\\\\n",
    "    x^2+ 2& 10 \\leq x \\\\\n",
    "    0 & otherwise\n",
    "\\end{array}\n",
    "\\right\\}\n",
    "$$\n",
    "\n",
    "</pre>\n",
    "**Test case 1:**\n",
    "<pre><b>Input: </b>\n",
    "5\n",
    "<b>Output</b>\n",
    "7.0\n",
    "</pre>\n",
    "**Test case 2:**\n",
    "<pre><b>Input: </b>\n",
    "15\n",
    "<b>Output</b>\n",
    "227.0\n",
    "</pre>"
   ]
  },
  {
   "cell_type": "code",
   "execution_count": 3,
   "metadata": {},
   "outputs": [],
   "source": [
    "#TRY"
   ]
  },
  {
   "cell_type": "markdown",
   "metadata": {},
   "source": [
    "## PPA 2\n",
    "Write a Python code to find the quadrant of a point taken as input from the user. The input is given in 2 lines with the first and second lines representing the x coordinate and y coordinates of the point respectively. The possible outputs are ```I```, ```II```, ```III```, ```IV```, ```X-axis```, ```Y-axis``` and ```Origin```. Any other output will not be accepted, Take care of the upper and lower cases while printing the output.\n",
    "<br/><br/>\n",
    "**Test case 1:**\n",
    "<pre><b>Input: </b>\n",
    "1\n",
    "2\n",
    "<b>Output</b>\n",
    "I\n",
    "</pre>\n",
    "**Test case 2:**\n",
    "<pre><b>Input: </b>\n",
    "1.8\n",
    "-1\n",
    "<b>Output</b>\n",
    "IV\n",
    "</pre>"
   ]
  },
  {
   "cell_type": "code",
   "execution_count": 4,
   "metadata": {},
   "outputs": [],
   "source": [
    "#TRY"
   ]
  },
  {
   "cell_type": "markdown",
   "metadata": {},
   "source": [
    "## PPA 3\n",
    "Write a python code to realize the equation of a line given 2 points($x_1$, $y_1$) and ($x_2$, $y_2$). The input is in 5 lines where, the first, second, third and fourth line represent $x_1$, $y_1$, $x_2$, $y_2$ respectively. The fifth line corresponds to $x_3$. Determine $y_3$ using the line equatino given below.\n",
    "$$\n",
    "\\frac{x-x_1}{x_2-x_1} = \\frac{y-y_1}{y_2-y_1}\n",
    "$$\n",
    "\n",
    "The output should be ```Vertical Line``` if the line is vertical. In other cases, the output should be 2 lined, where the first line is the value of $y_3$ and the second line indicates whether the slope of the line is positive or negative. Print ```Positive Slope```, ```Negative Slope``` and ```Horizontal Slope``` accordingly. \n",
    "<br/><br/>\n",
    "**Test case 1:**\n",
    "<pre><b>Input: </b>\n",
    "1\n",
    "2\n",
    "1\n",
    "6\n",
    "5\n",
    "<b>Output</b>\n",
    "Vertical Line\n",
    "</pre>\n",
    "**Test case 2:**\n",
    "<pre><b>Input: </b>\n",
    "1\n",
    "4\n",
    "5\n",
    "6\n",
    "2\n",
    "<b>Output</b>\n",
    "4.5\n",
    "Positive Slope\n",
    "</pre>"
   ]
  },
  {
   "cell_type": "code",
   "execution_count": 5,
   "metadata": {},
   "outputs": [],
   "source": [
    "#TRY"
   ]
  },
  {
   "cell_type": "markdown",
   "metadata": {},
   "source": [
    "## PPA 4\n",
    "Accept a string and return a new string formed using the middle three characters. If the input even length, make the string of odd length as below. \n",
    "+ Add a period ```.``` at the end if it is not there, \n",
    "+ Otherwise remove the period ```.``` from the end.\n",
    "\n",
    "\n",
    "**Test case 1:**\n",
    "<pre><b>Input: </b>\n",
    "Peter Piper picked a peck of pickled peppers.\n",
    "<b>Output</b>\n",
    "pec\n",
    "</pre>\n",
    "**Test case 2:**\n",
    "<pre><b>Input: </b>\n",
    "floccinaucinihilipilification\n",
    "<b>Output</b>\n",
    "hil\n",
    "</pre>"
   ]
  },
  {
   "cell_type": "code",
   "execution_count": 6,
   "metadata": {},
   "outputs": [],
   "source": [
    "#TRY"
   ]
  },
  {
   "cell_type": "markdown",
   "metadata": {},
   "source": [
    "## PPA 5\n",
    "\n",
    "<table style=\"\" style=\"text-transform: capitalize; border: 1px solid black;text-align: center;\">\n",
    "<tbody>\n",
    "<tr style=\"height: 34px;\">\n",
    "<td style=\"width: 122px; height: 34px;\">a</td>\n",
    "<td style=\"width: 123px; height: 34px;\">b</td>\n",
    "<td style=\"width: 123px; height: 34px;\">c</td>\n",
    "<td style=\"width: 123px; height: 34px;\">d</td>\n",
    "</tr>\n",
    "<tr style=\"height: 34px;\">\n",
    "<td style=\"width: 122px; height: 34px;\">false</td>\n",
    "<td style=\"width: 123px; height: 34px;\">false</td>\n",
    "<td style=\"width: 123px; height: 34px;\">false</td>\n",
    "<td style=\"width: 124px; height: 34px;\">false\n",
    "</td>\n",
    "</tr>\n",
    "<tr style=\"height: 34px;\">\n",
    "<td style=\"width: 122px; height: 34px;\">false</td>\n",
    "<td style=\"width: 123px; height: 34px;\">false</td>\n",
    "<td style=\"width: 123px; height: 34px;\">true</td>\n",
    "<td style=\"width: 124px; height: 34px;\">true</td>\n",
    "</tr>\n",
    "<tr style=\"height: 34px;\">\n",
    "<td style=\"width: 122px; height: 34px;\">false</td>\n",
    "<td style=\"width: 123px; height: 34px;\">true</td>\n",
    "<td style=\"width: 123px; height: 34px;\">false</td>\n",
    "<td style=\"width: 124px; height: 34px;\">false</td>\n",
    "</tr>\n",
    "<tr style=\"height: 35px;\">\n",
    "<td style=\"width: 122px; height: 35px;\">false</td>\n",
    "<td style=\"width: 123px; height: 35px;\">true</td>\n",
    "<td style=\"width: 123px; height: 35px;\">true</td>\n",
    "<td style=\"width: 124px; height: 35px;\">true</td>\n",
    "</tr>\n",
    "<tr style=\"height: 35px;\">\n",
    "<td style=\"width: 122px; height: 35px;\">true</td>\n",
    "<td style=\"width: 123px; height: 35px;\">false</td>\n",
    "<td style=\"width: 123px; height: 35px;\">false</td>\n",
    "<td style=\"width: 124px; height: 35px;\">true</td>\n",
    "</tr>\n",
    "<tr style=\"height: 35px;\">\n",
    "<td style=\"width: 122px; height: 35px;\">true</td>\n",
    "<td style=\"width: 123px; height: 35px;\">false</td>\n",
    "<td style=\"width: 123px; height: 35px;\">true</td>\n",
    "<td style=\"width: 124px; height: 35px;\">true</td>\n",
    "</tr>\n",
    "<tr style=\"height: 35px;\">\n",
    "<td style=\"width: 122px; height: 35px;\">true</td>\n",
    "<td style=\"width: 123px; height: 35px;\">true</td>\n",
    "<td style=\"width: 123px; height: 35px;\">false</td>\n",
    "<td style=\"width: 124px; height: 35px;\">&nbsp;false</td>\n",
    "</tr>\n",
    "<tr style=\"height: 35px;\">\n",
    "<td style=\"width: 122px; height: 35px;\">true</td>\n",
    "<td style=\"width: 123px; height: 35px;\">true</td>\n",
    "<td style=\"width: 123px; height: 35px;\">true</td>\n",
    "<td style=\"width: 124px; height: 35px;\">true</td>\n",
    "</tr>\n",
    "</tbody>\n",
    "</table>\n",
    "\n",
    "**Test case 1:**\n",
    "<pre><b>Input: </b>\n",
    "True\n",
    "False\n",
    "True\n",
    "<b>Output</b>\n",
    "True\n",
    "</pre>\n",
    "**Test case 2:**\n",
    "<pre><b>Input: </b>\n",
    "True\n",
    "True\n",
    "True\n",
    "<b>Output</b>\n",
    "True\n",
    "</pre>\n",
    "**Test case 3:**\n",
    "<pre><b>Input: </b>\n",
    "False\n",
    "False\n",
    "False\n",
    "<b>Output</b>\n",
    "False\n",
    "</pre>"
   ]
  },
  {
   "cell_type": "code",
   "execution_count": 1,
   "metadata": {},
   "outputs": [],
   "source": [
    "#TRY"
   ]
  },
  {
   "cell_type": "markdown",
   "metadata": {},
   "source": [
    "\n",
    "# SOLUTIONS: \n",
    "---"
   ]
  },
  {
   "cell_type": "markdown",
   "metadata": {},
   "source": [
    "**PPA 1**"
   ]
  },
  {
   "cell_type": "code",
   "execution_count": 2,
   "metadata": {},
   "outputs": [
    {
     "name": "stdout",
     "output_type": "stream",
     "text": [
      "5\n",
      "7.0"
     ]
    }
   ],
   "source": [
    "x = int(input())\n",
    "if x >= 10: \n",
    "    print(x*x + 2/1, end=\"\")\n",
    "elif x > 0: \n",
    "    print(x + 2/1, end=\"\")\n",
    "else: \n",
    "    print(0)"
   ]
  },
  {
   "cell_type": "markdown",
   "metadata": {},
   "source": [
    "**PPA 2**"
   ]
  },
  {
   "cell_type": "code",
   "execution_count": 3,
   "metadata": {},
   "outputs": [
    {
     "name": "stdout",
     "output_type": "stream",
     "text": [
      "1\n",
      "2\n",
      "I\n"
     ]
    }
   ],
   "source": [
    "x = float(input())\n",
    "y = float(input())\n",
    "if x == 0 and y == 0: \n",
    "    print('Origin')\n",
    "if x > 0 and y > 0: \n",
    "    print('I')\n",
    "if (x > 0 or x < 0) and y == 0: \n",
    "    print('X-axis')\n",
    "if (y < 0 or y > 0) and x == 0: \n",
    "    print('Y-axis')\n",
    "if x < 0 and y > 0: \n",
    "    print('II')\n",
    "if x < 0 and y < 0: \n",
    "    print('III')\n",
    "if x > 0 and y < 0: \n",
    "    print('IV')"
   ]
  },
  {
   "cell_type": "markdown",
   "metadata": {},
   "source": [
    "**PPA 3**"
   ]
  },
  {
   "cell_type": "code",
   "execution_count": 4,
   "metadata": {},
   "outputs": [
    {
     "name": "stdout",
     "output_type": "stream",
     "text": [
      "1\n",
      "2\n",
      "1\n",
      "6\n",
      "5\n",
      "Vertical Line\n"
     ]
    }
   ],
   "source": [
    "x1, y1, x2, y2, x = float(input()), float(input()), float(input()), float(input()), float(input())\n",
    "if x2 == x1: \n",
    "    print(\"Vertical Line\")\n",
    "else: \n",
    "    m = (y2-y1)/(x2-x1)\n",
    "    print(m*(x - x1) + y1)\n",
    "    if m > 0: \n",
    "        print(\"Positive Slope\", end=\"\")\n",
    "    elif m < 0: \n",
    "        print('Negative Slope', end=\"\")\n",
    "    else: \n",
    "        print('Horizontal Line', end=\"\")"
   ]
  },
  {
   "cell_type": "markdown",
   "metadata": {},
   "source": [
    "**PPA 4**"
   ]
  },
  {
   "cell_type": "code",
   "execution_count": 5,
   "metadata": {},
   "outputs": [
    {
     "name": "stdout",
     "output_type": "stream",
     "text": [
      "Peter Piper picked a peck of pickled peppers.\n",
      "pec"
     ]
    }
   ],
   "source": [
    "a = input()\n",
    "mid = len(a)//2 -1\n",
    "if len(a)%2 == 0 and a.endswith('.'): \n",
    "    print(a[mid-1:mid+2])\n",
    "else: \n",
    "    print(a[mid:mid+3], end=\"\")"
   ]
  },
  {
   "cell_type": "markdown",
   "metadata": {},
   "source": [
    "**PPA 5**"
   ]
  },
  {
   "cell_type": "code",
   "execution_count": 6,
   "metadata": {},
   "outputs": [
    {
     "name": "stdout",
     "output_type": "stream",
     "text": [
      "True\n",
      "False\n",
      "True\n",
      "True\n"
     ]
    }
   ],
   "source": [
    "x,y,z=input(),input(),input()\n",
    "\n",
    "if z==\"True\":\n",
    "    print(\"True\")\n",
    "elif (x=='True' and y=='False') and z==\"False\":\n",
    "    print(\"True\")\n",
    "else: \n",
    "    print(\"False\")"
   ]
  },
  {
   "cell_type": "code",
   "execution_count": null,
   "metadata": {},
   "outputs": [],
   "source": []
  }
 ],
 "metadata": {
  "kernelspec": {
   "display_name": "Python 3",
   "language": "python",
   "name": "python3"
  },
  "language_info": {
   "codemirror_mode": {
    "name": "ipython",
    "version": 3
   },
   "file_extension": ".py",
   "mimetype": "text/x-python",
   "name": "python",
   "nbconvert_exporter": "python",
   "pygments_lexer": "ipython3",
   "version": "3.8.5"
  }
 },
 "nbformat": 4,
 "nbformat_minor": 4
}
