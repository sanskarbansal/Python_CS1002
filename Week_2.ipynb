{
 "cells": [
  {
   "cell_type": "markdown",
   "metadata": {},
   "source": [
    "#### GPA 1\n",
    "Accept three positive integers as input from the user and check if they form the sides of a right triangle. Print ```YES``` if they form one, and ```NO``` if they don not. \n",
    "<br/>**Input-Output Specification**<br/>\n",
    "<pre>\n",
    "The input will have three lines, with one integer on each line. \n",
    "The output will be a single line containing one of these two strings: <b>YES</b> or <b>NO</b>.\n",
    "</pre>\n",
    "**Examples**\n",
    "<pre>\n",
    "<b>Input-1</b>\n",
    "1\n",
    "2\n",
    "3\n",
    "<b>Output-1</b>\n",
    "NO\n",
    "<b>Input-2</b>\n",
    "3\n",
    "4\n",
    "5\n",
    "<b>Output-2</b>\n",
    "YES\n",
    "</pre>"
   ]
  },
  {
   "cell_type": "code",
   "execution_count": 1,
   "metadata": {},
   "outputs": [],
   "source": [
    "#TRY"
   ]
  },
  {
   "cell_type": "markdown",
   "metadata": {},
   "source": [
    "#### GPA 2\n",
    "Accept an integer between 0 and 23(both endpoints included) from the user and print what time of the day it is. User the following table for reference. If the time is outside this range. print the string **INVALID**\n",
    "\n",
    "| Input | Output |\n",
    "| -------  | -------  | \n",
    "| $$ T \\lt 0 $$ | Invalid | \n",
    "| $$ 0 \\le T \\le 5 $$ | NIGHT | \n",
    "| $$6 \\le T \\le 11$$ | MORNING | \n",
    "| $$12 \\le T \\le 17$$ | AFTERNOON | \n",
    "| $$18 \\le T \\le 23$$ | EVENING | \n",
    "| $$T \\ge 24$$ | INVALID | \n",
    "\n"
   ]
  },
  {
   "cell_type": "code",
   "execution_count": null,
   "metadata": {},
   "outputs": [],
   "source": [
    "#TRY"
   ]
  },
  {
   "cell_type": "markdown",
   "metadata": {},
   "source": [
    "#### GPA 3\n",
    "EvenOdd is a tech startup. Each employee at the startup is given an employee id which is a unique positive integer. On one warm Sunday evening, five employees of the company come toggether for a meeting and sit at a circular table: <br/>\n",
    "The employees follow a strange convention. They will continue the metting only if the follwoing condition is satisfied. \n",
    "> The sum of the employee-ids of any two adjacent employees at the table must be an even number. \n",
    "\n",
    "They are so lazy that they won't move around to satisfy the above condition. If the current seating plan doesn't satisfy the condition, the meeting will be canceled. you are given the employee-id of all five employees. Your task is to decide if the meeting happened or not. \n",
    "\n",
    "<br/>**Input-Output Specification**<br/>\n",
    "<pre>\n",
    "The input will have five lines, with each line containing an integer. The i<sup>th</sup> line will have the employee-id of E<sub>i</sub> . \n",
    "The output will be a single line containing one of these two strings: <b>YES</b> or <b>NO</b>.\n",
    "</pre>\n",
    "**Examples**\n",
    "<pre>\n",
    "<b>Input-1</b>\n",
    "1\n",
    "2\n",
    "3\n",
    "4\n",
    "5\n",
    "<b>Output-1</b>\n",
    "NO\n",
    "<b>Input-2</b>\n",
    "2\n",
    "4\n",
    "6\n",
    "8\n",
    "10\n",
    "<b>Output-2</b>\n",
    "YES\n",
    "\n",
    "</pre>"
   ]
  },
  {
   "cell_type": "code",
   "execution_count": 8,
   "metadata": {},
   "outputs": [],
   "source": [
    "#TRY"
   ]
  },
  {
   "cell_type": "markdown",
   "metadata": {},
   "source": [
    "#### GPA 4\n",
    "Write a program to find which vowels are present in the input string. Print the vowels in lexical/dictonary order. \n",
    "<pre>\n",
    "<b>Input-1</b>\n",
    "Moon flowers bloom only at night, closing during the day.\n",
    "<b>Output-1</b>\n",
    "aeiou\n",
    "<b>Input-2</b>\n",
    "1 Yard (yd) = 3 feet (ft).\n",
    "<b>Output-2</b>\n",
    "ae\n",
    "</pre>"
   ]
  },
  {
   "cell_type": "code",
   "execution_count": 11,
   "metadata": {},
   "outputs": [],
   "source": [
    "#TRY"
   ]
  },
  {
   "cell_type": "markdown",
   "metadata": {},
   "source": [
    "#### GPA 5\n",
    "You are given the date of birth of two persons, not necessarily from the same family. The task is to find the younger of the two. If both of them share same date of birth, then print the person whose name comes first alphabetical order. If both the names starts with same letter then compare the next letter of the names and so on. \n",
    "<br/><br/>\n",
    "**Input-Output Speicifications**\n",
    "<br/>\n",
    "The input will have four lines. The first two lines correspond to the first person, while the second two lines correspond to the second person. The first line for both the persons contains the name and the second line contains the date of birth in ```DD-MM-YYYY``` format. \n",
    "<pre>\n",
    "<b>Input-1</b>\n",
    "Harsh\n",
    "10-03-1990\n",
    "Sparsh\n",
    "18-12-1987\n",
    "<b>Ouput-1</b>\n",
    "Harsh\n",
    "<b>Input-2</b>\n",
    "Harsh\n",
    "18-01-2000\n",
    "Sparsh\n",
    "18-03-2000\n",
    "<b>Ouput-2</b>\n",
    "Sparsh\n",
    "</pre>"
   ]
  },
  {
   "cell_type": "code",
   "execution_count": 13,
   "metadata": {},
   "outputs": [],
   "source": [
    "#TRY"
   ]
  },
  {
   "cell_type": "markdown",
   "metadata": {},
   "source": [
    "#### GPA 6\n",
    "Write a python program to validate the password given by the user based on the following conditions. \n",
    "1. It should be at least 8 and at most 32 charactes. \n",
    "2. It should start with an uppercase or lowercase alphabet. \n",
    "3. It can contain numbers. \n",
    "4. It can contain the characters `!`, `@`, `$`, `%`, `^`, `$`, `_`, `*`, and `.`\n",
    "5. It should not have the characters `/`, `\\`, `=`, `\"`, and spaces\n",
    "\n",
    "Examples\n",
    "\n",
    "<pre>\n",
    "<b>Input-1</b>\n",
    "abcd1234\n",
    "<b>Output-1</b>\n",
    "True\n",
    "<b>Input-2</b>\n",
    "no_password\n",
    "<b>Output-2</b>\n",
    "True\n",
    "<b>Input-3</b>\n",
    "sanskar bansal\n",
    "<b>Output-3</b>\n",
    "False\n",
    "</pre>"
   ]
  },
  {
   "cell_type": "code",
   "execution_count": 16,
   "metadata": {},
   "outputs": [],
   "source": [
    "#TRY"
   ]
  },
  {
   "cell_type": "markdown",
   "metadata": {},
   "source": [
    "## PPA 1\n",
    "<pre>\n",
    "Evaluate the below piecewise function using python and print the value of y <br/>\n",
    "</pre> \n",
    "$$\n",
    "y = \\left \\{\n",
    "\\begin{array}{lr}\n",
    "    x+2 & 0 \\lt x \\lt 10 \\\\\n",
    "    x^2+ 2& 10 \\leq x \\\\\n",
    "    0 & otherwise\n",
    "\\end{array}\n",
    "\\right\\}\n",
    "$$\n",
    "\n",
    "</pre>\n",
    "**Test case 1:**\n",
    "<pre><b>Input: </b>\n",
    "5\n",
    "<b>Output</b>\n",
    "7.0\n",
    "</pre>\n",
    "**Test case 2:**\n",
    "<pre><b>Input: </b>\n",
    "15\n",
    "<b>Output</b>\n",
    "227.0\n",
    "</pre>"
   ]
  },
  {
   "cell_type": "code",
   "execution_count": 3,
   "metadata": {},
   "outputs": [],
   "source": [
    "#TRY"
   ]
  },
  {
   "cell_type": "markdown",
   "metadata": {},
   "source": [
    "## PPA 2\n",
    "Write a Python code to find the quadrant of a point taken as input from the user. The input is given in 2 lines with the first and second lines representing the x coordinate and y coordinates of the point respectively. The possible outputs are ```I```, ```II```, ```III```, ```IV```, ```X-axis```, ```Y-axis``` and ```Origin```. Any other output will not be accepted, Take care of the upper and lower cases while printing the output.\n",
    "<br/><br/>\n",
    "**Test case 1:**\n",
    "<pre><b>Input: </b>\n",
    "1\n",
    "2\n",
    "<b>Output</b>\n",
    "I\n",
    "</pre>\n",
    "**Test case 2:**\n",
    "<pre><b>Input: </b>\n",
    "1.8\n",
    "-1\n",
    "<b>Output</b>\n",
    "IV\n",
    "</pre>"
   ]
  },
  {
   "cell_type": "code",
   "execution_count": 4,
   "metadata": {},
   "outputs": [],
   "source": [
    "#TRY"
   ]
  },
  {
   "cell_type": "markdown",
   "metadata": {},
   "source": [
    "## PPA 3\n",
    "Write a python code to realize the equation of a line given 2 points($x_1$, $y_1$) and ($x_2$, $y_2$). The input is in 5 lines where, the first, second, third and fourth line represent $x_1$, $y_1$, $x_2$, $y_2$ respectively. The fifth line corresponds to $x_3$. Determine $y_3$ using the line equatino given below.\n",
    "$$\n",
    "\\frac{x-x_1}{x_2-x_1} = \\frac{y-y_1}{y_2-y_1}\n",
    "$$\n",
    "\n",
    "The output should be ```Vertical Line``` if the line is vertical. In other cases, the output should be 2 lined, where the first line is the value of $y_3$ and the second line indicates whether the slope of the line is positive or negative. Print ```Positive Slope```, ```Negative Slope``` and ```Horizontal Slope``` accordingly. \n",
    "<br/><br/>\n",
    "**Test case 1:**\n",
    "<pre><b>Input: </b>\n",
    "1\n",
    "2\n",
    "1\n",
    "6\n",
    "5\n",
    "<b>Output</b>\n",
    "Vertical Line\n",
    "</pre>\n",
    "**Test case 2:**\n",
    "<pre><b>Input: </b>\n",
    "1\n",
    "4\n",
    "5\n",
    "6\n",
    "2\n",
    "<b>Output</b>\n",
    "4.5\n",
    "Positive Slope\n",
    "</pre>"
   ]
  },
  {
   "cell_type": "code",
   "execution_count": 5,
   "metadata": {},
   "outputs": [],
   "source": [
    "#TRY"
   ]
  },
  {
   "cell_type": "markdown",
   "metadata": {},
   "source": [
    "## PPA 4\n",
    "Accept a string and return a new string formed using the middle three characters. If the input even length, make the string of odd length as below. \n",
    "+ Add a period ```.``` at the end if it is not there, \n",
    "+ Otherwise remove the period ```.``` from the end.\n",
    "\n",
    "\n",
    "**Test case 1:**\n",
    "<pre><b>Input: </b>\n",
    "Peter Piper picked a peck of pickled peppers.\n",
    "<b>Output</b>\n",
    "pec\n",
    "</pre>\n",
    "**Test case 2:**\n",
    "<pre><b>Input: </b>\n",
    "floccinaucinihilipilification\n",
    "<b>Output</b>\n",
    "hil\n",
    "</pre>"
   ]
  },
  {
   "cell_type": "code",
   "execution_count": 6,
   "metadata": {},
   "outputs": [],
   "source": [
    "#TRY"
   ]
  },
  {
   "cell_type": "markdown",
   "metadata": {},
   "source": [
    "## PPA 5\n",
    "\n",
    "<table style=\"\" style=\"text-transform: capitalize; border: 1px solid black;text-align: center;\">\n",
    "<tbody>\n",
    "<tr style=\"height: 34px;\">\n",
    "<td style=\"width: 122px; height: 34px;\">a</td>\n",
    "<td style=\"width: 123px; height: 34px;\">b</td>\n",
    "<td style=\"width: 123px; height: 34px;\">c</td>\n",
    "<td style=\"width: 123px; height: 34px;\">d</td>\n",
    "</tr>\n",
    "<tr style=\"height: 34px;\">\n",
    "<td style=\"width: 122px; height: 34px;\">false</td>\n",
    "<td style=\"width: 123px; height: 34px;\">false</td>\n",
    "<td style=\"width: 123px; height: 34px;\">false</td>\n",
    "<td style=\"width: 124px; height: 34px;\">false\n",
    "</td>\n",
    "</tr>\n",
    "<tr style=\"height: 34px;\">\n",
    "<td style=\"width: 122px; height: 34px;\">false</td>\n",
    "<td style=\"width: 123px; height: 34px;\">false</td>\n",
    "<td style=\"width: 123px; height: 34px;\">true</td>\n",
    "<td style=\"width: 124px; height: 34px;\">true</td>\n",
    "</tr>\n",
    "<tr style=\"height: 34px;\">\n",
    "<td style=\"width: 122px; height: 34px;\">false</td>\n",
    "<td style=\"width: 123px; height: 34px;\">true</td>\n",
    "<td style=\"width: 123px; height: 34px;\">false</td>\n",
    "<td style=\"width: 124px; height: 34px;\">false</td>\n",
    "</tr>\n",
    "<tr style=\"height: 35px;\">\n",
    "<td style=\"width: 122px; height: 35px;\">false</td>\n",
    "<td style=\"width: 123px; height: 35px;\">true</td>\n",
    "<td style=\"width: 123px; height: 35px;\">true</td>\n",
    "<td style=\"width: 124px; height: 35px;\">true</td>\n",
    "</tr>\n",
    "<tr style=\"height: 35px;\">\n",
    "<td style=\"width: 122px; height: 35px;\">true</td>\n",
    "<td style=\"width: 123px; height: 35px;\">false</td>\n",
    "<td style=\"width: 123px; height: 35px;\">false</td>\n",
    "<td style=\"width: 124px; height: 35px;\">true</td>\n",
    "</tr>\n",
    "<tr style=\"height: 35px;\">\n",
    "<td style=\"width: 122px; height: 35px;\">true</td>\n",
    "<td style=\"width: 123px; height: 35px;\">false</td>\n",
    "<td style=\"width: 123px; height: 35px;\">true</td>\n",
    "<td style=\"width: 124px; height: 35px;\">true</td>\n",
    "</tr>\n",
    "<tr style=\"height: 35px;\">\n",
    "<td style=\"width: 122px; height: 35px;\">true</td>\n",
    "<td style=\"width: 123px; height: 35px;\">true</td>\n",
    "<td style=\"width: 123px; height: 35px;\">false</td>\n",
    "<td style=\"width: 124px; height: 35px;\">&nbsp;false</td>\n",
    "</tr>\n",
    "<tr style=\"height: 35px;\">\n",
    "<td style=\"width: 122px; height: 35px;\">true</td>\n",
    "<td style=\"width: 123px; height: 35px;\">true</td>\n",
    "<td style=\"width: 123px; height: 35px;\">true</td>\n",
    "<td style=\"width: 124px; height: 35px;\">true</td>\n",
    "</tr>\n",
    "</tbody>\n",
    "</table>\n",
    "\n",
    "**Test case 1:**\n",
    "<pre><b>Input: </b>\n",
    "True\n",
    "False\n",
    "True\n",
    "<b>Output</b>\n",
    "True\n",
    "</pre>\n",
    "**Test case 2:**\n",
    "<pre><b>Input: </b>\n",
    "True\n",
    "True\n",
    "True\n",
    "<b>Output</b>\n",
    "True\n",
    "</pre>\n",
    "**Test case 3:**\n",
    "<pre><b>Input: </b>\n",
    "False\n",
    "False\n",
    "False\n",
    "<b>Output</b>\n",
    "False\n",
    "</pre>"
   ]
  },
  {
   "cell_type": "code",
   "execution_count": 1,
   "metadata": {},
   "outputs": [],
   "source": [
    "#TRY"
   ]
  },
  {
   "cell_type": "markdown",
   "metadata": {},
   "source": [
    "\n",
    "# SOLUTIONS: \n",
    "---"
   ]
  },
  {
   "cell_type": "markdown",
   "metadata": {},
   "source": [
    "**GPA 1**"
   ]
  },
  {
   "cell_type": "code",
   "execution_count": 4,
   "metadata": {},
   "outputs": [
    {
     "name": "stdout",
     "output_type": "stream",
     "text": [
      "3\n",
      "4\n",
      "5\n",
      "YES"
     ]
    }
   ],
   "source": [
    "a = int(input())**2\n",
    "b = int(input())**2\n",
    "c = int(input())**2\n",
    "if a+b == c or a+c == b or b+c == a: \n",
    "    print(\"YES\", end=\"\")\n",
    "else: \n",
    "    print(\"NO\", end=\"\")\n"
   ]
  },
  {
   "cell_type": "markdown",
   "metadata": {},
   "source": [
    "**GPA 2**"
   ]
  },
  {
   "cell_type": "code",
   "execution_count": 6,
   "metadata": {
    "scrolled": true
   },
   "outputs": [
    {
     "name": "stdout",
     "output_type": "stream",
     "text": [
      "12\n",
      "AFTERNOON\n"
     ]
    }
   ],
   "source": [
    "t = int(input())\n",
    "if t >= 24 or t < 0: \n",
    "    print(\"INVALID\")\n",
    "elif t >= 18: \n",
    "    print(\"EVENING\")\n",
    "elif t >= 12: \n",
    "    print(\"AFTERNOON\")\n",
    "elif t >= 6: \n",
    "    print('MORNING')\n",
    "else: \n",
    "    print(\"NIGHT\")"
   ]
  },
  {
   "cell_type": "markdown",
   "metadata": {},
   "source": [
    "**GPA 3**"
   ]
  },
  {
   "cell_type": "code",
   "execution_count": 9,
   "metadata": {},
   "outputs": [
    {
     "name": "stdout",
     "output_type": "stream",
     "text": [
      "1\n",
      "2\n",
      "3\n",
      "4\n",
      "5\n",
      "NO\n"
     ]
    }
   ],
   "source": [
    "a, b, c, d, e = int(input()), int(input()), int(input()), int(input()), int(input())\n",
    "flag = True\n",
    "if not((a+b)%2 == 0): \n",
    "    flag = False\n",
    "if not((b+c)%2 == 0): \n",
    "    flag = False\n",
    "if not((c+d)%2 == 0): \n",
    "    flag = False\n",
    "if not((d+e)%2 == 0): \n",
    "    flag = False\n",
    "if not((a+e)%2 == 0): \n",
    "    flag = False\n",
    "if flag: \n",
    "    print(\"YES\")\n",
    "else: \n",
    "    print(\"NO\")"
   ]
  },
  {
   "cell_type": "markdown",
   "metadata": {},
   "source": [
    "**GPA 4**"
   ]
  },
  {
   "cell_type": "code",
   "execution_count": 12,
   "metadata": {},
   "outputs": [
    {
     "name": "stdout",
     "output_type": "stream",
     "text": [
      "1 Yard (yd) = 3 feet (ft).\n",
      "ae\n"
     ]
    }
   ],
   "source": [
    "str = input()\n",
    "output = \"\"\n",
    "if 'a' in str or 'A' in str: \n",
    "    output += 'a'\n",
    "if 'e' in str or 'E' in str: \n",
    "    output += 'e'\n",
    "if 'i' in str or 'I' in str: \n",
    "    output += 'i'\n",
    "if 'o' in str or 'O' in str: \n",
    "    output += 'o'\n",
    "if 'u' in str or 'U' in str: \n",
    "    output += 'u'\n",
    "print(output)"
   ]
  },
  {
   "cell_type": "markdown",
   "metadata": {},
   "source": [
    "**GPA 5**"
   ]
  },
  {
   "cell_type": "code",
   "execution_count": 14,
   "metadata": {},
   "outputs": [
    {
     "name": "stdout",
     "output_type": "stream",
     "text": [
      "Harsh\n",
      "10-03-1990\n",
      "Sparsh\n",
      "18-12-1987\n",
      "Harsh\n"
     ]
    }
   ],
   "source": [
    "name1, date1, name2, date2 = input(), input(), input(), input(); \n",
    "if date1[6: ] > date2[6: ]: \n",
    "    print(name1)\n",
    "elif date1[6:] == date2[6: ]: \n",
    "    if date1[3:5] > date2[3:5]: \n",
    "        print(name1)\n",
    "    elif date1[3:5] == date2[3:5]: \n",
    "        if date1[0:2] > date2[0:2]: \n",
    "            print(name1)\n",
    "        elif date1[0:2] == date2[0:2]:\n",
    "            if name1 < name2: \n",
    "                print(name1)\n",
    "            else: \n",
    "                print(name2)\n",
    "        else: \n",
    "            print(name2)\n",
    "    else: \n",
    "        print(name2)\n",
    "else: \n",
    "    print(name2)"
   ]
  },
  {
   "cell_type": "markdown",
   "metadata": {},
   "source": [
    "**GPA 6**"
   ]
  },
  {
   "cell_type": "code",
   "execution_count": 17,
   "metadata": {},
   "outputs": [
    {
     "name": "stdout",
     "output_type": "stream",
     "text": [
      "Sanskar Bansal\n",
      "False"
     ]
    }
   ],
   "source": [
    "password = input()\n",
    "flag = True\n",
    "length = len(password)\n",
    "if length < 8 or length > 32: \n",
    "    flag = False\n",
    "else: \n",
    "    if not(password[0].isalpha()): \n",
    "        flag = False\n",
    "    if '/' in password or '\\\\' in password or '=' in password or \"'\" in password or '\"' in password or ' ' in password: \n",
    "        flag = False\n",
    "print(flag, end=\"\")"
   ]
  },
  {
   "cell_type": "markdown",
   "metadata": {},
   "source": [
    "**PPA 1**"
   ]
  },
  {
   "cell_type": "code",
   "execution_count": 2,
   "metadata": {},
   "outputs": [
    {
     "name": "stdout",
     "output_type": "stream",
     "text": [
      "5\n",
      "7.0"
     ]
    }
   ],
   "source": [
    "x = int(input())\n",
    "if x >= 10: \n",
    "    print(x*x + 2/1, end=\"\")\n",
    "elif x > 0: \n",
    "    print(x + 2/1, end=\"\")\n",
    "else: \n",
    "    print(0)"
   ]
  },
  {
   "cell_type": "markdown",
   "metadata": {},
   "source": [
    "**PPA 2**"
   ]
  },
  {
   "cell_type": "code",
   "execution_count": 3,
   "metadata": {},
   "outputs": [
    {
     "name": "stdout",
     "output_type": "stream",
     "text": [
      "1\n",
      "2\n",
      "I\n"
     ]
    }
   ],
   "source": [
    "x = float(input())\n",
    "y = float(input())\n",
    "if x == 0 and y == 0: \n",
    "    print('Origin')\n",
    "if x > 0 and y > 0: \n",
    "    print('I')\n",
    "if (x > 0 or x < 0) and y == 0: \n",
    "    print('X-axis')\n",
    "if (y < 0 or y > 0) and x == 0: \n",
    "    print('Y-axis')\n",
    "if x < 0 and y > 0: \n",
    "    print('II')\n",
    "if x < 0 and y < 0: \n",
    "    print('III')\n",
    "if x > 0 and y < 0: \n",
    "    print('IV')"
   ]
  },
  {
   "cell_type": "markdown",
   "metadata": {},
   "source": [
    "**PPA 3**"
   ]
  },
  {
   "cell_type": "code",
   "execution_count": 4,
   "metadata": {},
   "outputs": [
    {
     "name": "stdout",
     "output_type": "stream",
     "text": [
      "1\n",
      "2\n",
      "1\n",
      "6\n",
      "5\n",
      "Vertical Line\n"
     ]
    }
   ],
   "source": [
    "x1, y1, x2, y2, x = float(input()), float(input()), float(input()), float(input()), float(input())\n",
    "if x2 == x1: \n",
    "    print(\"Vertical Line\")\n",
    "else: \n",
    "    m = (y2-y1)/(x2-x1)\n",
    "    print(m*(x - x1) + y1)\n",
    "    if m > 0: \n",
    "        print(\"Positive Slope\", end=\"\")\n",
    "    elif m < 0: \n",
    "        print('Negative Slope', end=\"\")\n",
    "    else: \n",
    "        print('Horizontal Line', end=\"\")"
   ]
  },
  {
   "cell_type": "markdown",
   "metadata": {},
   "source": [
    "**PPA 4**"
   ]
  },
  {
   "cell_type": "code",
   "execution_count": 5,
   "metadata": {},
   "outputs": [
    {
     "name": "stdout",
     "output_type": "stream",
     "text": [
      "Peter Piper picked a peck of pickled peppers.\n",
      "pec"
     ]
    }
   ],
   "source": [
    "a = input()\n",
    "mid = len(a)//2 -1\n",
    "if len(a)%2 == 0 and a.endswith('.'): \n",
    "    print(a[mid-1:mid+2])\n",
    "else: \n",
    "    print(a[mid:mid+3], end=\"\")"
   ]
  },
  {
   "cell_type": "markdown",
   "metadata": {},
   "source": [
    "**PPA 5**"
   ]
  },
  {
   "cell_type": "code",
   "execution_count": 6,
   "metadata": {},
   "outputs": [
    {
     "name": "stdout",
     "output_type": "stream",
     "text": [
      "True\n",
      "False\n",
      "True\n",
      "True\n"
     ]
    }
   ],
   "source": [
    "x,y,z=input(),input(),input()\n",
    "\n",
    "if z==\"True\":\n",
    "    print(\"True\")\n",
    "elif (x=='True' and y=='False') and z==\"False\":\n",
    "    print(\"True\")\n",
    "else: \n",
    "    print(\"False\")"
   ]
  },
  {
   "cell_type": "code",
   "execution_count": null,
   "metadata": {},
   "outputs": [],
   "source": []
  }
 ],
 "metadata": {
  "kernelspec": {
   "display_name": "Python 3",
   "language": "python",
   "name": "python3"
  },
  "language_info": {
   "codemirror_mode": {
    "name": "ipython",
    "version": 3
   },
   "file_extension": ".py",
   "mimetype": "text/x-python",
   "name": "python",
   "nbconvert_exporter": "python",
   "pygments_lexer": "ipython3",
   "version": "3.8.5"
  }
 },
 "nbformat": 4,
 "nbformat_minor": 4
}
