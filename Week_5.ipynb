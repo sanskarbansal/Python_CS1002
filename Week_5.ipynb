{
 "cells": [
  {
   "cell_type": "markdown",
   "metadata": {},
   "source": [
    "### PPA 1\n",
    "Solve the following system of linear equations: \n",
    "$$\n",
    "a_1x_1 + b_1y_1 + c_1 = 0\n",
    "$$\n",
    "$$\n",
    "a_2x_2 + b_2y_2 + c_2 = 0\n",
    "$$\n",
    "**Assumptions**\n",
    "+ All coefficients are non-zero integers. \n",
    "+ The system has a unique solutions. \n",
    "+ The solution will always be a pair of integers. \n",
    "\n",
    "**Task**<br/>\n",
    "The coefficients will be given as a list of integers. \n",
    "+ eq1: [$a_1$, $b_1$, $c_1$]\n",
    "+ eq2: [$a_2$, $b_2$, $c_2$]\n",
    "\n",
    "Write a function named solve that accepts these two lists as input and returns the solution as output. \n",
    "```python\n",
    "def solve(eq1, eq2): \n",
    "    '''Return solution (x, y) as output'''\n",
    "    pass\n",
    "```"
   ]
  },
  {
   "cell_type": "code",
   "execution_count": null,
   "metadata": {},
   "outputs": [],
   "source": [
    "#TRY"
   ]
  },
  {
   "cell_type": "markdown",
   "metadata": {},
   "source": [
    "### Problem 2\n",
    "Find the transpose of a given matrix. \n",
    "$$\n",
    "\\begin{bmatrix}\n",
    "    a_1 & a_2 & a_2 \\\\\n",
    "    b_1 & b_2 & b_3\n",
    "\\end{bmatrix}\n",
    " \\rightarrow\n",
    "\\begin{bmatrix}\n",
    "a_1 & b_1 \\\\\n",
    "a_2 & b_2 \\\\\n",
    "a_3 & b_3 \n",
    "\\end{bmatrix}\n",
    "$$\n",
    "\n",
    "**Assumptions**\n",
    "+ All cells in the matrix are integers. \n",
    "+ The dimension of the matrix is $ m x n$, where m, n $\\ge$ 1. The first line in the input will have the dimension as space-seperated integers. \n",
    "+ The next m lines in the input will be a sequence of  n space-seperated integers. \n",
    "+ The output will be the transpose of this matrix. Each row of the matrix is given as sequence of space seperated integers. \n",
    "\n",
    "**Task**<br/>\n",
    "Write a function transpose that accepts a matrix as input and returns its transpose. YOu can assume that the matrix is a nested list. \n",
    "```python \n",
    "def transpose(mat): \n",
    "    '''Returns transpose of mat'''\n",
    "    pass\n",
    "```"
   ]
  },
  {
   "cell_type": "code",
   "execution_count": 7,
   "metadata": {},
   "outputs": [],
   "source": [
    "#TRY"
   ]
  },
  {
   "cell_type": "markdown",
   "metadata": {},
   "source": [
    "### PPA 3\n",
    "In large-scale programming projects, organizing files and folders becomes crucial. Consider the following folder structure. The path to a file is expressed in the following manner: \n",
    "<pre>\n",
    "/home\n",
    "/home/mark\n",
    "/home/mark/facebook\n",
    "/home/mark/facebook/src\n",
    "/home/mark/facebook/src/newsfeed.py\n",
    "</pre>\n",
    "+ Line-1: The /home folder is like a huge palace. Users have their own rooms in it. This folder is at level-1. \n",
    "+ Line-2: In the home folder, we have a user named mark. /home/mark is his room. This folder is at level-2 \n",
    "+ line-3: Mark is working on a project called facebook, naturally within his room This folder is at level-3. \n",
    "+ Line-4: Within this project, he maintains a folder named src to store all his python filed. This folder is at level-4. \n",
    "+ Line-5: The path points to newsfeed.py, one of the files in the files in the folder. This file is at level-5. \n",
    "\n",
    "The level of a file or folder quantifies its depth within the folder structure. <br/>\n",
    "<br/>**Assumptions**\n",
    "+ There are only two types of entities: files and folders. \n",
    "+ Files could end with one of the following extensions: \n",
    "    + ```.py``` - Code\n",
    "    + ```.cpp``` - Code\n",
    "    + ```.jpg``` - image\n",
    "    + ```.png``` - img\n",
    "+ Unline the chiken-egg problem, only files can reside in folders. Folders cannot be present in files. \n",
    "+ Folder names will always be alphanumeric characters. \n",
    "\n",
    "\n",
    "**Task**\n",
    "<br/>\n",
    "Given a path as input, your task is to write the following functions: \n",
    "\n",
    "+ ```is_folder(path)```: this accepts as input and returns ```True``` if the path points to a folder, ```False``` otherwise. \n",
    "+ ```is_file(path)```: this accepts a path as input and returns ```True``` if the path points to a file, ```False``` otherwise. \n",
    "+ ```is_code(path)```: this accepts a path as input and returns ```True1``` if the path points to an image and ```False``` otherwise. \n",
    "+ ```is_image(path)```: this accepts a path as input ```True``` if the path points to an image file and ```False``` otherwise. \n",
    "+ ```level(path)```: this accepts a path as input and returns the level at which it is found. \n",
    "\n",
    "Functions calls in this order: \n",
    "```\n",
    "is_folder(path)\n",
    "is_file(path)\n",
    "is_code(path)\n",
    "is_image(path)\n",
    "level(path)\n",
    "```\n",
    "**Sample Test Cases**\n",
    "<pre>\n",
    "<b>Test Case 1</b>\n",
    "<b>Input: </b>\n",
    "/home/mark/facebook/src/newsfeed.py\n",
    "<b>Output: </b>\n",
    "False\n",
    "True\n",
    "True\n",
    "False\n",
    "5\n",
    "<b>Test Case 2</b>\n",
    "<b>Input: </b>\n",
    "/home/guido/microsoft/secret/mystery/src\n",
    "<b>Output: </b>\n",
    "True\n",
    "False\n",
    "False\n",
    "False\n",
    "6\n",
    "<b>Test Case 3</b>\n",
    "<b>Input: </b>\n",
    "/home/einstein/relativity.jpg\n",
    "<b>Output: </b>\n",
    "False\n",
    "True\n",
    "False\n",
    "True\n",
    "3\n",
    "</pre>\n"
   ]
  },
  {
   "cell_type": "code",
   "execution_count": 52,
   "metadata": {},
   "outputs": [],
   "source": [
    "#TRY"
   ]
  },
  {
   "cell_type": "markdown",
   "metadata": {},
   "source": [
    "### Problem 4\n",
    "The pearson correlation coeffiecient, r(x, y) is a measure of association between two continuous variables x and y. The correlation r(x, y)is given defined in the mathematical form as below. \n",
    "\n",
    "$$r(x, y) = \\frac{\\sum_{i=1}^{n} (x_i-\\bar{x})(y_i-\\bar{y})}{\\sqrt{\\sum_{i=1}^{n} (x_i-\\bar{x})^2} \\cdot \\sqrt{\\sum_{i=1}^{n} (y_i-\\bar{y})^2} }$$\n",
    "\n",
    "| Symbol | Meaning | \n",
    "| --- | --- | \n",
    "| n | number of data points (or count of numbers)  |  \n",
    "| $x_i$ | i-th value of the variable x, i = 1, 2, 3, 4, ... , n | \n",
    "| $y_i$ | i-th value of the variable y, i = 1, 2, 3, 4, ... , n | \n",
    "| $\\bar{x}$ | mean or average vlaue of the variable x |\n",
    "| $\\bar{y}$ | mean or average vlaue of the variable y |\n",
    "\n",
    "\n",
    "**Sample Test Cases**\n",
    "<pre>\n",
    "<b>Input</b>\n",
    "1 2 3 4 5 6 7 8 9\n",
    "1 2 3 2 3 4 3 4 5\n",
    "<b>Output</b>\n",
    "0.9\n",
    "<b>Input</b>\n",
    "1.0 2.0 3.0 4.0 5.0 6.0 7.0 8.0 9.0 10.0\n",
    "-1.0 -2.0 -3.0 -4.0 -5.0 -1.0 -2.0 -3.0 -4.0 -5.0\n",
    "<b>Output</b>\n",
    "-0.5\n",
    "</pre>"
   ]
  },
  {
   "cell_type": "code",
   "execution_count": 53,
   "metadata": {},
   "outputs": [],
   "source": [
    "#TRY"
   ]
  },
  {
   "cell_type": "markdown",
   "metadata": {},
   "source": [
    "### Solutions\n",
    "___"
   ]
  },
  {
   "cell_type": "markdown",
   "metadata": {},
   "source": [
    "### PPA 1"
   ]
  },
  {
   "cell_type": "code",
   "execution_count": 6,
   "metadata": {},
   "outputs": [],
   "source": [
    "#Using crammers rule.\n",
    "def det(eq1, eq2): \n",
    "    return eq1[0]*eq2[1] - eq1[1]*eq2[0]\n",
    "def solve(eq1, eq2): \n",
    "    '''Return solution (x, y) as output'''\n",
    "    detA = det(eq1, eq2)\n",
    "    x = -det([eq1[2], eq1[1]],[eq2[2], eq2[1]] )/detA\n",
    "    y = -det([eq1[0], eq1[2]],[eq2[0], eq2[2]] )/detA\n",
    "    return int(x), int(y)"
   ]
  },
  {
   "cell_type": "markdown",
   "metadata": {},
   "source": [
    "### PPA 2"
   ]
  },
  {
   "cell_type": "code",
   "execution_count": 22,
   "metadata": {},
   "outputs": [],
   "source": [
    "def transpose(mat): \n",
    "    '''Returns transpose of mat'''\n",
    "    m, n = len(mat), len(mat[0])\n",
    "    output = []\n",
    "    for i in range(n): \n",
    "        output.append([])\n",
    "        for j in range(m):\n",
    "            output[i].append(mat[j][i])\n",
    "    return output"
   ]
  },
  {
   "cell_type": "markdown",
   "metadata": {},
   "source": [
    "### PPA 3"
   ]
  },
  {
   "cell_type": "code",
   "execution_count": 51,
   "metadata": {},
   "outputs": [],
   "source": [
    "def is_file(path): \n",
    "    '''Returns True if the path is of file else False'''\n",
    "    return (is_code(path) or is_image(path))\n",
    "def is_folder(path): \n",
    "    '''Returns True if the path is of folder else False'''\n",
    "    return not(is_file(path))\n",
    "def is_code(path): \n",
    "    '''Returns True if the path is of code file else False'''\n",
    "    return path.endswith('.py') or path.endswith('.cpp')\n",
    "def is_image(path): \n",
    "    '''Returns True if the path is of image file else False'''\n",
    "    return path.endswith('.jpg') or path.endswith('.png')\n",
    "def level(path): \n",
    "    '''Returns Level of the file or folder.'''\n",
    "    return len(path.split('/'))-1"
   ]
  },
  {
   "cell_type": "markdown",
   "metadata": {},
   "source": [
    "### Problem 4"
   ]
  },
  {
   "cell_type": "code",
   "execution_count": 91,
   "metadata": {},
   "outputs": [
    {
     "name": "stdout",
     "output_type": "stream",
     "text": [
      "0.9\n"
     ]
    }
   ],
   "source": [
    "from math import sqrt\n",
    "def pearson_correlation(x, y): \n",
    "    if len(x) != len(y): \n",
    "        return 0.0; \n",
    "    xbar =  ybar = 0\n",
    "    for i in range(len(x)): \n",
    "        xbar += x[i]\n",
    "        ybar += y[i]\n",
    "    xbar, ybar = xbar/len(x), ybar/len(x)\n",
    "    covar = stdx =  stdy = 0\n",
    "    for i in range(len(x)):\n",
    "        a, b =  (x[i]-xbar), (y[i] - ybar)\n",
    "        covar += a*b\n",
    "        stdx += a**2\n",
    "        stdy += b**2\n",
    "    return round(covar/sqrt(stdx*stdy), 1)\n",
    "x = [1, 2, 3, 4, 5, 6, 7, 8, 9]\n",
    "y = [1, 2, 3, 2, 3, 4, 3, 4, 5]\n",
    "print(pearson_correlation(x, y))"
   ]
  },
  {
   "cell_type": "code",
   "execution_count": null,
   "metadata": {},
   "outputs": [],
   "source": []
  },
  {
   "cell_type": "code",
   "execution_count": null,
   "metadata": {},
   "outputs": [],
   "source": []
  }
 ],
 "metadata": {
  "kernelspec": {
   "display_name": "Python 3",
   "language": "python",
   "name": "python3"
  },
  "language_info": {
   "codemirror_mode": {
    "name": "ipython",
    "version": 3
   },
   "file_extension": ".py",
   "mimetype": "text/x-python",
   "name": "python",
   "nbconvert_exporter": "python",
   "pygments_lexer": "ipython3",
   "version": "3.8.5"
  }
 },
 "nbformat": 4,
 "nbformat_minor": 4
}
