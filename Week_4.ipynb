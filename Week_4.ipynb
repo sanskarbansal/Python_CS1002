{
 "cells": [
  {
   "cell_type": "markdown",
   "metadata": {},
   "source": [
    "#### PPA 1\n",
    "Accept electricity units as a positive integer from the user and write a program to print total bill amount according to the following criteria: \n",
    "\n",
    "| Units | Cost per unit (Rs) | \n",
    " | --- | --- | \n",
    "| First 100 Units | 0 | \n",
    "| Next 100 Units | 5 |\n",
    "| Next 300 Units | 8 | \n",
    "| After 500 units | 10 | \n",
    "\n",
    "**Sample Test Cases**\n",
    "<pre>\n",
    "<b>Test Case 1</b>\n",
    "Input\n",
    "75\n",
    "Output\n",
    "0\n",
    "Input \n",
    "150 \n",
    "Output\n",
    "250\n",
    "Input \n",
    "250\n",
    "Output\n",
    "900\n",
    "</pre>"
   ]
  },
  {
   "cell_type": "code",
   "execution_count": 100,
   "metadata": {},
   "outputs": [],
   "source": [
    "#TRY"
   ]
  },
  {
   "cell_type": "markdown",
   "metadata": {},
   "source": [
    "#### PPA 2\n",
    "Write a program to accept a string `s` from the user that contains ```(```, ```)```, ```{```, ```}```and ```[```, ```]``` in it. \n",
    ">Note: ```{```, ```}```and ```[```, ```]``` are the opening and lcosing brackets which needs to be verified - All the opening brackets should be closed with the same type of closing bracket. \n",
    "\n",
    "Print ```True``` if all the brackets are open and closed in a proper manner. Otherwise print ```False```\n",
    "\n",
    "\n",
    "| Input | Output |\n",
    "| --- | ---  | \n",
    "| (jhdhd}(sdddd){) | False | \n",
    "| [{(sa]sa(aaa)} | False |\n",
    "| []{{}()}[{()}] | True | "
   ]
  },
  {
   "cell_type": "code",
   "execution_count": 103,
   "metadata": {},
   "outputs": [],
   "source": [
    "#TRY"
   ]
  },
  {
   "cell_type": "markdown",
   "metadata": {},
   "source": [
    "#### PPA 3\n",
    "Accept a string from the user and print the encrypted string according to the following conditions. \n",
    "+ Each letter should be replaced by the letter which is at the same position from reverse in alphabets like ```a``` is replace by ```z```, ```b``` is replace by ```y```.... ```y``` is replace by ```b```, ```z``` is replace by ```a```\n",
    "+ Uppercase letters should be in uppercase and lowercase letters should be in lowercase after conversion. \n",
    "+ Each digit should be replace by a digit which is at the same position from reverse in (0, 1, 2...9) like , ```0``` is replace by ```9```, ```1``` is replace by ```8```...```8``` is replaced by ```1``` and ```9``` is replace by ```0```. \n",
    "+ Blank space should be replace by '_' and other types of characters remain the same. \n",
    "\n",
    "\n",
    "**Sample Test Cases**\n",
    "<pre>\n",
    "<b>Test Case 1</b>\n",
    "Input\n",
    "abcde123\n",
    "Output\n",
    "zyxwv876\n",
    "Input \n",
    "This is Data Science course\n",
    "Output\n",
    "Gsrh_rh_Wzgz_Hxrvmxv_xlfihv\n",
    "Input \n",
    "abc@123.com\n",
    "Output\n",
    "zyx@876.xln\n",
    "</pre>"
   ]
  },
  {
   "cell_type": "code",
   "execution_count": 105,
   "metadata": {},
   "outputs": [],
   "source": [
    "#TRY"
   ]
  },
  {
   "cell_type": "markdown",
   "metadata": {},
   "source": [
    "#### PPA 4\n",
    "Accept a non-empty list of space seperated +ve integers from the user and print all numbers in the list which are greater than the average in non-descending order. The output format should be a sequence of space seperated integers. For exampl: \n",
    "<br/>\n",
    "**Input** <br/>\n",
    "```5 6 3 2 7 1 4 3```<br/>\n",
    "**Output**<br/>\n",
    "```4 5 6 7```<br/>\n",
    "**Explaination**<br/>\n",
    "Average is $\\frac{(5+6+3+2+7+1+4+3)}{8} = 3.875 $\n",
    "<pre>\n",
    "<b>Test Cases</b>\n",
    "Input\n",
    "9 8 7 6 5 4 3 2 1\n",
    "Output\n",
    "6 7 8 9\n",
    "Input \n",
    "2 2 2 2 2 2 2 3 3 3 3 3\n",
    "Output\n",
    "3 3 3 3 3\n",
    "Input \n",
    "5 5 5 5 6 6 6 6 4 4 4 4\n",
    "Output\n",
    "6 6 6 6\n",
    "</pre>\n"
   ]
  },
  {
   "cell_type": "code",
   "execution_count": 106,
   "metadata": {},
   "outputs": [],
   "source": [
    "#TRY"
   ]
  },
  {
   "cell_type": "markdown",
   "metadata": {},
   "source": [
    "#### PPA 5\n",
    "Write a program to accept a non empty sequence of numbers seperated by comma. Print this sequence in same line seperated by comma after removing all duplicate values while preserving the orignal order. For exmaple: \n",
    "<br/>\n",
    "**Input** <br/>\n",
    "```6, 5, 9, 2, 6, 9, 5``` <br/>\n",
    "**Output** <br/>\n",
    "```6, 5, 9, 2```\n",
    "<pre>\n",
    "<b>Test Cases</b>\n",
    "Input\n",
    "6,5,9,2,6,9,5\n",
    "Output\n",
    "6,5,9,2\n",
    "Input \n",
    "1,2,3,4,5,6,7,8,8,7,6,5,4,3,2,1\n",
    "Output\n",
    "1,2,3,4,5,6,7,8\n",
    "</pre>\n"
   ]
  },
  {
   "cell_type": "code",
   "execution_count": 110,
   "metadata": {},
   "outputs": [],
   "source": [
    "#TRY"
   ]
  },
  {
   "cell_type": "markdown",
   "metadata": {},
   "source": [
    "#### PPA 6\n",
    "A clockwise rotation of a list consists of  taking the last element and moving it to the beginning of the list. For instance, if we rotate the list [1, 2, 3, 4, 5], we get [5, 1, 2, 3, 4], if we rotate it again, we get [4, 5, 1, 2, 3]. <br/>\n",
    "Write a program to accept a non empty sequence of numebrs seperated by space and a positive integer ```k``` and print the list elements in same line seperated by space after k rotations.<br/>\n",
    "Test Cases: <br/>\n",
    "<pre>\n",
    "<b>Input 1</b>\n",
    "1 2 3 4 5 \n",
    "3\n",
    "<b>Output 1</b>\n",
    "3 4 5 1 2 \n",
    "<b>Input 2</b>\n",
    "9 8 7 6 5 4 3 2 1\n",
    "9\n",
    "<b>Output 2</b>\n",
    "9 8 7 6 5 4 3 2 1\n",
    "<b>Input 3</b>\n",
    "2 3 2 3 2 3 2 3\n",
    "29\n",
    "<b>Output 3</b>\n",
    "3 2 3 2 3 2 3 2\n",
    "<pre>"
   ]
  },
  {
   "cell_type": "code",
   "execution_count": 112,
   "metadata": {},
   "outputs": [],
   "source": [
    "#TRY"
   ]
  },
  {
   "cell_type": "markdown",
   "metadata": {},
   "source": [
    "# SOLUTIONS"
   ]
  },
  {
   "cell_type": "markdown",
   "metadata": {},
   "source": [
    "**PPA 1**"
   ]
  },
  {
   "cell_type": "code",
   "execution_count": 101,
   "metadata": {},
   "outputs": [
    {
     "name": "stdout",
     "output_type": "stream",
     "text": [
      "501\n",
      "2910\n"
     ]
    }
   ],
   "source": [
    "units = int(input()) - 100\n",
    "price = 0\n",
    "if units > 0: \n",
    "    if units > 100: \n",
    "        price += 100*5\n",
    "    else: \n",
    "        price += units*5\n",
    "    units -= 100\n",
    "if units > 0: \n",
    "    if units > 300: \n",
    "        price += 300*8\n",
    "    else: \n",
    "        price += units*8\n",
    "    units -= 300\n",
    "if units > 0: \n",
    "    price += units*10\n",
    "print(price)"
   ]
  },
  {
   "cell_type": "markdown",
   "metadata": {},
   "source": [
    "**PPA 2**"
   ]
  },
  {
   "cell_type": "code",
   "execution_count": 102,
   "metadata": {},
   "outputs": [
    {
     "name": "stdout",
     "output_type": "stream",
     "text": [
      "(jhdhd}(sdddd){)\n",
      "False\n"
     ]
    }
   ],
   "source": [
    "string = input()\n",
    "arr = []\n",
    "flag = True\n",
    "count = 0\n",
    "for i in string: \n",
    "    if i in '({[': \n",
    "        arr.append(i)\n",
    "        \n",
    "    if i == \")\": \n",
    "        if arr[len(arr)-1] != '(': \n",
    "            flag = False\n",
    "            break\n",
    "        arr.pop()\n",
    "    if i == ']': \n",
    "        if arr[len(arr)-1] != '[': \n",
    "            flag = False\n",
    "            break\n",
    "        arr.pop()\n",
    "    if i == '}': \n",
    "        if arr[len(arr)-1] != '{': \n",
    "            flag = False\n",
    "            break\n",
    "        arr.pop()\n",
    "\n",
    "print(flag)"
   ]
  },
  {
   "cell_type": "markdown",
   "metadata": {},
   "source": [
    "**PPA 3**"
   ]
  },
  {
   "cell_type": "code",
   "execution_count": 104,
   "metadata": {},
   "outputs": [
    {
     "name": "stdout",
     "output_type": "stream",
     "text": [
      "abc@123.com\n",
      "zyx@876.xln"
     ]
    }
   ],
   "source": [
    "lowercase = \"abcdefghijklmnopqrstuvwxyz\"\n",
    "string = input()\n",
    "for i in string: \n",
    "    if i >= '0' and i <= '9': \n",
    "        print(9-int(i), end=\"\")\n",
    "    elif i == ' ': \n",
    "        print(\"_\", end=\"\")\n",
    "    elif i >= 'a' and i <= 'z': \n",
    "        print(lowercase[-(lowercase.index(i)+1)], end=\"\")\n",
    "    elif i >= 'A' and i <= 'Z': \n",
    "        print(lowercase[-(lowercase.index(i.lower())+1)].upper(), end=\"\")\n",
    "    else: \n",
    "        print(i, end=\"\")"
   ]
  },
  {
   "cell_type": "markdown",
   "metadata": {},
   "source": [
    "**PPA 4**"
   ]
  },
  {
   "cell_type": "code",
   "execution_count": 109,
   "metadata": {},
   "outputs": [
    {
     "name": "stdout",
     "output_type": "stream",
     "text": [
      "5 6 3 2 7 1 4 3\n",
      "4 5 6 7 "
     ]
    }
   ],
   "source": [
    "numbers = input().split(' ')\n",
    "average = 0\n",
    "for i in numbers: \n",
    "    average += int(i)\n",
    "average /= len(numbers)\n",
    "output = []\n",
    "for i in numbers: \n",
    "    if int(i) > average: \n",
    "        output.append(int(i))\n",
    "output.sort()\n",
    "for i in output: \n",
    "    print(i, end=\" \")"
   ]
  },
  {
   "cell_type": "markdown",
   "metadata": {},
   "source": [
    "**PPA 5**"
   ]
  },
  {
   "cell_type": "code",
   "execution_count": 111,
   "metadata": {},
   "outputs": [
    {
     "name": "stdout",
     "output_type": "stream",
     "text": [
      "6,5,9,2,6,9,5\n",
      "6,5,9,2"
     ]
    }
   ],
   "source": [
    "numbers = input().split(',')\n",
    "output = []\n",
    "for i, val1 in enumerate(numbers): \n",
    "    flag = True\n",
    "    j = i -1\n",
    "    while j >= 0: \n",
    "        if numbers[j] == val1: \n",
    "            flag = False\n",
    "            break\n",
    "        j-=1\n",
    "    if flag: \n",
    "        output.append(val1)\n",
    "i = 0\n",
    "while i < len(output): \n",
    "    if i == len(output)-1: \n",
    "        print(output[i], end=\"\")\n",
    "        i += 1\n",
    "        continue\n",
    "    print(output[i], end=\",\")\n",
    "    i += 1"
   ]
  },
  {
   "cell_type": "markdown",
   "metadata": {},
   "source": [
    "**PPA 6**"
   ]
  },
  {
   "cell_type": "code",
   "execution_count": 113,
   "metadata": {},
   "outputs": [
    {
     "name": "stdout",
     "output_type": "stream",
     "text": [
      "9 8 7 6 5 4 3 2 1\n",
      "4\n",
      "4 3 2 1 9 8 7 6 5 "
     ]
    }
   ],
   "source": [
    "numbers = input().split(' ')\n",
    "n = int(input())\n",
    "size = len(numbers)\n",
    "output = [0]*size\n",
    "for i in range(size): \n",
    "    output[(i+n)%size] = numbers[i]\n",
    "for i in output: \n",
    "    print(i, end=\" \")"
   ]
  },
  {
   "cell_type": "code",
   "execution_count": null,
   "metadata": {},
   "outputs": [],
   "source": []
  }
 ],
 "metadata": {
  "kernelspec": {
   "display_name": "Python 3",
   "language": "python",
   "name": "python3"
  },
  "language_info": {
   "codemirror_mode": {
    "name": "ipython",
    "version": 3
   },
   "file_extension": ".py",
   "mimetype": "text/x-python",
   "name": "python",
   "nbconvert_exporter": "python",
   "pygments_lexer": "ipython3",
   "version": "3.8.5"
  }
 },
 "nbformat": 4,
 "nbformat_minor": 4
}
