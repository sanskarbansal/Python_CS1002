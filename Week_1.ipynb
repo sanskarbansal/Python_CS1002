{
 "cells": [
  {
   "cell_type": "markdown",
   "metadata": {},
   "source": [
    "**PPA 1:** <br/>\n",
    "Print the Following Lines: <br/>\n",
    "89074562 <br/>\n",
    "Hii!! <br/>\n",
    "$$Howareyou?? <br/>\n",
    "10*10 = 100 <br/>\n",
    "(12 > 10) and True <br/>\n",
    "I am here to learn \"python"
   ]
  },
  {
   "cell_type": "code",
   "execution_count": 17,
   "metadata": {},
   "outputs": [],
   "source": [
    "#TRY"
   ]
  },
  {
   "cell_type": "markdown",
   "metadata": {},
   "source": [
    "**PPA 2:** <br/>\n",
    "Print the following pattern.\n",
    "<pre>$\n",
    "$ $ \n",
    "$ $ $\n",
    "$ $ $ $\n",
    "$ $ $ $ $\n",
    "</pre>"
   ]
  },
  {
   "cell_type": "code",
   "execution_count": 18,
   "metadata": {},
   "outputs": [],
   "source": [
    "#TRY"
   ]
  },
  {
   "cell_type": "markdown",
   "metadata": {},
   "source": [
    "**PPA 3:** \n",
    "Accept a string as input. Make a copy of this string. Insert the exclamation mark (!) before and\n",
    "after the copy and print this final string to the console. <br/>\n",
    "**Test case 1:**\n",
    "<pre><b>Input: </b>\n",
    "cool \n",
    "\n",
    "<b>Output</b>\n",
    "!cool!\n",
    "</pre>\n",
    "**Test case 2:**\n",
    "<pre><b>Input: </b>\n",
    "123567 \n",
    "\n",
    "<b>Output</b>\n",
    "!123567!\n",
    "</pre>\n"
   ]
  },
  {
   "cell_type": "code",
   "execution_count": 20,
   "metadata": {},
   "outputs": [],
   "source": [
    "#TRY"
   ]
  },
  {
   "cell_type": "markdown",
   "metadata": {},
   "source": [
    "**PPA 4:** \n",
    "Accept an integer as input. Find the quotient when 3^{35} is divided by x and print the output.\n",
    "<br/>\n",
    "**Test case 1:**\n",
    "<pre><b>Input: </b>\n",
    "10 \n",
    "\n",
    "<b>Output</b>\n",
    "5003154509899970\n",
    "</pre>\n",
    "**Test case 2:**\n",
    "<pre><b>Input: </b>\n",
    "100\n",
    "\n",
    "<b>Output</b>\n",
    "500315450989997\n",
    "</pre>\n"
   ]
  },
  {
   "cell_type": "code",
   "execution_count": 22,
   "metadata": {},
   "outputs": [],
   "source": [
    "#TRY"
   ]
  },
  {
   "cell_type": "markdown",
   "metadata": {},
   "source": [
    "**PPA 5:** \n",
    "Accept a string as input. Print the string obtained by removing the first and last letters. For\n",
    "example:\n",
    "<pre>\n",
    "peace\n",
    "eac\n",
    "</pre>\n",
    "**Test case 1:**\n",
    "<pre><b>Input: </b>\n",
    "Rain\n",
    "<b>Output</b>\n",
    "ai</pre>\n",
    "**Test case 2:**\n",
    "<pre><b>Input: </b>\n",
    "abcdefg\n",
    "<b>Output</b>\n",
    "bcdef\n",
    "</pre>\n"
   ]
  },
  {
   "cell_type": "code",
   "execution_count": 24,
   "metadata": {},
   "outputs": [],
   "source": [
    "#TRY"
   ]
  },
  {
   "cell_type": "markdown",
   "metadata": {},
   "source": [
    "# Solutions\n",
    "___"
   ]
  },
  {
   "cell_type": "markdown",
   "metadata": {},
   "source": [
    "**PPA 1:**"
   ]
  },
  {
   "cell_type": "code",
   "execution_count": 16,
   "metadata": {},
   "outputs": [
    {
     "name": "stdout",
     "output_type": "stream",
     "text": [
      "89074562\n",
      "Hii!!\n",
      "$$Howareyou??\n",
      "10*10 = 100\n",
      "(12 > 10) and True\n",
      "I am here to learn \"python\"\n",
      "\n",
      "********************Approach 2******************** \n",
      "\n",
      "89074562\n",
      "Hii!!\n",
      "$$Howareyou??\n",
      "10*10 = 100\n",
      "(12 > 10) and True\n",
      "I am here to learn \"python\"\n"
     ]
    }
   ],
   "source": [
    "s = '''89074562\n",
    "Hii!!\n",
    "$$Howareyou??\n",
    "10*10 = 100\n",
    "(12 > 10) and True\n",
    "I am here to learn \"python\"'''\n",
    "print(s)\n",
    "### Or we could write\n",
    "print()\n",
    "print(\"*\"*20 + \"Approach 2\" + \"*\"*20, \"\\n\")\n",
    "print('89074562')\n",
    "print('Hii!!')\n",
    "print('$$Howareyou??')\n",
    "print('10*10 = 100')\n",
    "print('(12 > 10) and True')\n",
    "print('I am here to learn \"python\"')\n"
   ]
  },
  {
   "cell_type": "markdown",
   "metadata": {},
   "source": [
    "**PPA 2:**"
   ]
  },
  {
   "cell_type": "code",
   "execution_count": 19,
   "metadata": {},
   "outputs": [
    {
     "name": "stdout",
     "output_type": "stream",
     "text": [
      "$\n",
      "$ $\n",
      "$ $ $\n",
      "$ $ $ $\n",
      "$ $ $ $ $\n"
     ]
    }
   ],
   "source": [
    "print('$')\n",
    "print('$ $')\n",
    "print('$ $ $')\n",
    "print('$ $ $ $')\n",
    "print('$ $ $ $ $')"
   ]
  },
  {
   "cell_type": "markdown",
   "metadata": {},
   "source": [
    "**PPA 3:**"
   ]
  },
  {
   "cell_type": "code",
   "execution_count": 21,
   "metadata": {},
   "outputs": [
    {
     "name": "stdout",
     "output_type": "stream",
     "text": [
      "cool\n",
      "!cool!"
     ]
    }
   ],
   "source": [
    "str = input()\n",
    "print('!'+str+'!', end=\"\")"
   ]
  },
  {
   "cell_type": "markdown",
   "metadata": {},
   "source": [
    "**PPA 4:**"
   ]
  },
  {
   "cell_type": "code",
   "execution_count": 23,
   "metadata": {},
   "outputs": [
    {
     "name": "stdout",
     "output_type": "stream",
     "text": [
      "10\n",
      "5003154509899970"
     ]
    }
   ],
   "source": [
    "n = int(input())\n",
    "print(3**35//n, end=\"\")"
   ]
  },
  {
   "cell_type": "markdown",
   "metadata": {},
   "source": [
    "**PPA 5:**"
   ]
  },
  {
   "cell_type": "code",
   "execution_count": 25,
   "metadata": {},
   "outputs": [
    {
     "name": "stdout",
     "output_type": "stream",
     "text": [
      "abcdefghijkl\n",
      "bcdefghijk"
     ]
    }
   ],
   "source": [
    "n = input()\n",
    "print(n[1:len(n)-1], end=\"\")"
   ]
  },
  {
   "cell_type": "code",
   "execution_count": null,
   "metadata": {},
   "outputs": [],
   "source": []
  }
 ],
 "metadata": {
  "kernelspec": {
   "display_name": "Python 3",
   "language": "python",
   "name": "python3"
  },
  "language_info": {
   "codemirror_mode": {
    "name": "ipython",
    "version": 3
   },
   "file_extension": ".py",
   "mimetype": "text/x-python",
   "name": "python",
   "nbconvert_exporter": "python",
   "pygments_lexer": "ipython3",
   "version": "3.8.5"
  }
 },
 "nbformat": 4,
 "nbformat_minor": 4
}
